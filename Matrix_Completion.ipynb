{
  "cells": [
    {
      "cell_type": "markdown",
      "metadata": {
        "id": "4Vm_MfUDBj_c"
      },
      "source": [
        "## Matrix Completion Problem using Deep Neural Networks | Mostafa Alkady\n",
        "\n",
        "## Machine Learning for Physicists and Mathematicians Summer School 2025 at Northeastern University"
      ]
    },
    {
      "cell_type": "markdown",
      "metadata": {
        "id": "2Bs5po5tCC3i"
      },
      "source": [
        "**Problem Statement:**\n",
        "\n",
        "Given a partially observed square matrix $M \\in \\mathbb{R}^{n \\times n}$, where only a subset of entries $(i, j) \\in \\{1, \\dots, n\\} \\times \\{1, \\dots, n\\}$ are known, the goal is to recover the full matrix by estimating the missing entries. This is typically done under the assumption that the true underlying matrix is $\\textit{low-rank}$, i.e.,\n",
        "$$\\text{rank}(M) \\ll \\min(m, n).$$\n",
        "\n",
        "Here we use a deep neural network for the prediction of the missing entries!"
      ]
    },
    {
      "cell_type": "markdown",
      "metadata": {
        "id": "BSIUYQjnUBMZ"
      },
      "source": [
        "**Importing the packages:**"
      ]
    },
    {
      "cell_type": "code",
      "execution_count": 2,
      "metadata": {
        "colab": {
          "base_uri": "https://localhost:8080/"
        },
        "id": "QALO9bb79qb5",
        "outputId": "8c60b202-756c-4c33-eed0-d605155991d4"
      },
      "outputs": [
        {
          "output_type": "stream",
          "name": "stdout",
          "text": [
            "Using device: cpu\n"
          ]
        }
      ],
      "source": [
        "# NN packages\n",
        "import torch\n",
        "import torch.nn as nn\n",
        "import torch.nn.functional as F\n",
        "\n",
        "# Optimizers\n",
        "import torch.optim as optim\n",
        "\n",
        "# Loading data\n",
        "from torch.utils.data import TensorDataset, DataLoader\n",
        "\n",
        "# Other packages for plotting and data maipulation\n",
        "import matplotlib.pyplot as plt\n",
        "import numpy as np\n",
        "from tqdm import tqdm\n",
        "\n",
        "# Set random seed for reproducibility\n",
        "torch.manual_seed(17)\n",
        "\n",
        "# Detect CUDA if available\n",
        "device = torch.device(\"cuda:0\" if torch.cuda.is_available() else \"cpu\")\n",
        "print(f\"Using device: {device}\")"
      ]
    },
    {
      "cell_type": "markdown",
      "metadata": {
        "id": "lTnu28ekLNMI"
      },
      "source": [
        "**Create the synthetic data:**\n",
        "\n",
        "We generate random matrices $A$ of size $n$ and rank $r$ by generating two matrices $U$ and $V$ with dimensions $(n,r)$. We then have\n",
        "$$ A = U V^T, $$\n",
        "which has rank $r$.\n",
        "\n",
        "Note that the masked entries of the matrix must be $\\leq n^2 - 2nr + r^2$."
      ]
    },
    {
      "cell_type": "code",
      "execution_count": null,
      "metadata": {
        "id": "kCwyonzvX-4b"
      },
      "outputs": [],
      "source": [
        "def generate_masking_array(n, m):\n",
        "  ''' a function to generate a binary array of size n and number of zeros ranging from 1 to m '''\n",
        "    # Ensure m is not greater than n and at least 1\n",
        "    m = min(m, n)\n",
        "    num_zeros = np.random.randint(1, m + 1)  # Random number of zeros from 1 to m\n",
        "    num_ones = n - num_zeros\n",
        "\n",
        "    # Create the array\n",
        "    array = [0] * num_zeros + [1] * num_ones\n",
        "    np.random.shuffle(array)  # Shuffle to randomize positions\n",
        "\n",
        "    return np.array(array)"
      ]
    },
    {
      "cell_type": "code",
      "execution_count": null,
      "metadata": {
        "colab": {
          "base_uri": "https://localhost:8080/"
        },
        "id": "d2wV7TSU-Lwl",
        "outputId": "88c8bb3e-5507-467c-fb13-8a45f2aecbb5"
      },
      "outputs": [
        {
          "name": "stdout",
          "output_type": "stream",
          "text": [
            "Number of masked entries: 3\n"
          ]
        }
      ],
      "source": [
        "num = 12000 # number of data points (matrices)\n",
        "n = 4 # dimenion of the square matrix\n",
        "r = 2 # rank of the matrices\n",
        "max_masking = n**2 - 2*n*r + r**2\n",
        "\n",
        "x_vecs = []\n",
        "labels = []\n",
        "mask = generate_masking_array(n**2, max_masking)\n",
        "masked_indices = np.array(np.argwhere(mask == 0)).flatten()\n",
        "unmasked_indices = np.array(np.argwhere(mask == 1)).flatten()\n",
        "\n",
        "print(f\"Number of masked entries: {len(masked_indices)}\")\n",
        "\n",
        "for i in range(0, num):\n",
        "  U = np.random.randn(r,n)\n",
        "  V = np.random.randn(r,n)\n",
        "  mat = U.T @ V\n",
        "  mat_column = mat.reshape(-1)\n",
        "  x_vec = mat_column[unmasked_indices]\n",
        "  x_vecs.append(x_vec)\n",
        "  labels.append(mat_column[masked_indices])\n",
        "\n",
        "x_vecs = np.array(x_vecs)\n",
        "labels = np.array(labels)"
      ]
    },
    {
      "cell_type": "markdown",
      "metadata": {
        "id": "42q57XH2XgGs"
      },
      "source": [
        "Getting the data ready for PyTorch:"
      ]
    },
    {
      "cell_type": "code",
      "execution_count": null,
      "metadata": {
        "colab": {
          "base_uri": "https://localhost:8080/"
        },
        "id": "Eia3Q59G9uCL",
        "outputId": "38d261d5-b340-4b2b-c83a-9ccde8c1dee3"
      },
      "outputs": [
        {
          "name": "stdout",
          "output_type": "stream",
          "text": [
            "Train Features: torch.Size([10800, 13]), Train Labels: torch.Size([10800, 3])\n",
            "Test  Features: torch.Size([1200, 13]), Test  Labels: torch.Size([1200, 3])\n"
          ]
        }
      ],
      "source": [
        "xs, ys = torch.tensor(x_vecs, dtype=torch.float32, device=device), torch.tensor(labels, dtype=torch.float32, device=device)\n",
        "\n",
        "# randomly scramble xs and ys, but make sure that the labels keep aligned with the corresponding features\n",
        "rand_scramble = np.random.permutation(len(xs))\n",
        "xs, ys = xs[rand_scramble], ys[rand_scramble]\n",
        "\n",
        "# perform train-test split 90:10\n",
        "x_train, x_test = xs[:int(.9 * len(xs))], xs[int(.9 * len(xs)):]\n",
        "y_train, y_test = ys[:int(.9 * len(xs))], ys[int(.9 * len(xs)):]\n",
        "print(f\"Train Features: {x_train.shape}, Train Labels: {y_train.shape}\")\n",
        "print(f\"Test  Features: {x_test.shape}, Test  Labels: {y_test.shape}\")\n",
        "\n",
        "# we can put these into a data loader that provides batches of (x,y) pairs of the specified size\n",
        "# to keep the (x,y)-pairs together we first create a tensor dataset\n",
        "# also, torch wants the output to be 1D vectors rather than scalars, so we need to change [y0, y1, ...] to [[y0], [y1], ...]\n",
        "# we can do this with unsqueeze()\n",
        "tensor_train, tensor_test = TensorDataset(x_train, y_train.unsqueeze(-1)), TensorDataset(x_test, y_test.unsqueeze(-1))\n",
        "train_loader, test_loader = DataLoader(tensor_train, batch_size=64, shuffle=True), DataLoader(tensor_train, batch_size=1000, shuffle=False)"
      ]
    },
    {
      "cell_type": "markdown",
      "metadata": {
        "id": "EaZzR_8iOLDh"
      },
      "source": [
        "**Creating the model:**"
      ]
    },
    {
      "cell_type": "code",
      "execution_count": null,
      "metadata": {
        "id": "FD4Hfh099v2I"
      },
      "outputs": [],
      "source": [
        "class SimpleMLP(nn.Module):\n",
        "    def __init__(self):\n",
        "        super(SimpleMLP, self).__init__()\n",
        "        self.fc1 = nn.Linear(len(unmasked_indices), 30*n**2)\n",
        "        self.fc2 = nn.Linear(30*n**2, 20* n**2)\n",
        "        self.fc3 = nn.Linear(20*n**2, 5* n**2)\n",
        "        self.fc4 = nn.Linear(5* n**2, len(masked_indices))\n",
        "\n",
        "    def forward(self, x):\n",
        "        x = self.fc1(x)\n",
        "        x = F.relu(x)\n",
        "        x = self.fc2(x)\n",
        "        x = F.relu(x)\n",
        "        x = self.fc3(x)\n",
        "        x = F.relu(x)\n",
        "        x = self.fc4(x)\n",
        "        return x"
      ]
    },
    {
      "cell_type": "code",
      "execution_count": null,
      "metadata": {
        "id": "lmLfkaT09yS5"
      },
      "outputs": [],
      "source": [
        "# Instantiate the model\n",
        "model = SimpleMLP().to(device)\n",
        "\n",
        "# now we can apply it to our train data. since it is not trained, the output will be random (as the weights and biases were initialized ranodmly)\n",
        "# y_hats = model(xs)\n",
        "# print(\"\\nExample Output:\")\n",
        "# print(f\"f({xs[0,0].item():.4f}, {xs[0,1].item():.4f}) = {y_hats[0].item():.4f}\")"
      ]
    },
    {
      "cell_type": "markdown",
      "metadata": {
        "id": "y7FNTjt2OOPN"
      },
      "source": [
        "**Training:**"
      ]
    },
    {
      "cell_type": "code",
      "execution_count": null,
      "metadata": {
        "colab": {
          "base_uri": "https://localhost:8080/"
        },
        "id": "pmSjP5uv9z0n",
        "outputId": "ac44ac51-fb99-4b4c-a231-4cdb7e5ddb0a"
      },
      "outputs": [
        {
          "name": "stdout",
          "output_type": "stream",
          "text": [
            "\n",
            "Epoch 1/8000\n",
            "\n",
            "Epoch 1001/8000\n",
            "\n",
            "Epoch 2001/8000\n",
            "\n",
            "Epoch 3001/8000\n",
            "\n",
            "Epoch 4001/8000\n",
            "\n",
            "Epoch 5001/8000\n",
            "\n",
            "Epoch 6001/8000\n",
            "\n",
            "Epoch 7001/8000\n"
          ]
        }
      ],
      "source": [
        "# We train the model with MSE Loss and use stochastic gradient descend\n",
        "criterion = nn.MSELoss()\n",
        "optimizer = optim.Adam(model.parameters(), lr=0.001)\n",
        "\n",
        "# a simple train loop that keeps track of the accuracies. We also plot the NN output every 10 epochs\n",
        "def train_model(model, train_loader, test_loader, epochs=100, plot_interval=10):\n",
        "    # To track training progress\n",
        "    training_history = {\n",
        "        'train_loss': [],\n",
        "        'test_loss': []\n",
        "    }\n",
        "\n",
        "    for epoch in range(epochs):\n",
        "        if epoch % 1000 == 0:\n",
        "           print(f\"\\nEpoch {epoch+1}/{epochs}\")\n",
        "        model.train()  # set into training mode, activates dropouts for example.\n",
        "        epoch_train_loss = 0\n",
        "\n",
        "        # Training loop\n",
        "        for i, (inputs, labels) in enumerate(train_loader):\n",
        "            # Zero the gradients\n",
        "            optimizer.zero_grad()\n",
        "\n",
        "            # Forward + backward + optimize\n",
        "            outputs = model(inputs)\n",
        "            outputs = outputs.unsqueeze(-1)\n",
        "            loss = criterion(outputs, labels)\n",
        "            loss.backward()\n",
        "            optimizer.step()\n",
        "\n",
        "            # Track train loss\n",
        "            epoch_train_loss += loss.item()\n",
        "\n",
        "        epoch_train_loss /= len(train_loader)\n",
        "        training_history['train_loss'].append(epoch_train_loss)\n",
        "\n",
        "        # Evaluate on test set\n",
        "        model.eval()  # set into eval mode, deactivates dropouts for example.\n",
        "        epoch_test_loss = 0\n",
        "        xs_test, ys_test = [], []\n",
        "        for i, (inputs, labels) in enumerate(test_loader):\n",
        "            # no backward pass or optimization step for test!\n",
        "            xs_test.append(inputs.cpu().detach())\n",
        "            with torch.no_grad():\n",
        "                outputs = model(inputs)\n",
        "                outputs = outputs.unsqueeze(-1)\n",
        "                ys_test.append(outputs.cpu().detach())\n",
        "                loss = criterion(outputs, labels)\n",
        "                epoch_test_loss += loss.item()\n",
        "\n",
        "        epoch_test_loss /= len(test_loader)\n",
        "\n",
        "        # combine batches into one torch tensor\n",
        "        xs_test = torch.cat(xs_test, dim=0)\n",
        "        ys_test = torch.cat(ys_test, dim=0).squeeze()\n",
        "        training_history['test_loss'].append(epoch_test_loss)\n",
        "\n",
        "    return model, training_history\n",
        "\n",
        "epochs = 8000\n",
        "model, hist = train_model(model, train_loader, test_loader, epochs=epochs , plot_interval=10)"
      ]
    },
    {
      "cell_type": "markdown",
      "metadata": {
        "id": "Ueft-NNmp-1Q"
      },
      "source": [
        "**Plotting the train/test losses:**"
      ]
    },
    {
      "cell_type": "code",
      "execution_count": null,
      "metadata": {
        "colab": {
          "base_uri": "https://localhost:8080/",
          "height": 487
        },
        "id": "CC5QVefD92kN",
        "outputId": "133cadeb-38e8-4b4c-8c2f-fd6dd63fd675"
      },
      "outputs": [
        {
          "data": {
            "image/png": "[encoded data removed]",
            "text/plain": [
              "<Figure size 640x480 with 1 Axes>"
            ]
          },
          "metadata": {},
          "output_type": "display_data"
        }
      ],
      "source": [
        "step = 10\n",
        "plt.plot(np.arange(1, epochs, step), hist['train_loss'][::step], label=\"Train Loss\", color = '#ed1c88')\n",
        "plt.plot(np.arange(1, epochs, step), hist['test_loss'][::step], label=\"Test Loss\", color = '#01566d')\n",
        "plt.yscale(\"log\")\n",
        "plt.xlabel(\"Epoch\")\n",
        "plt.ylabel(\"Loss\")\n",
        "plt.title(f\"Training and Test Loss on {n} × {n} matrices\")\n",
        "plt.legend()\n",
        "plt.tight_layout()\n",
        "plt.show()"
      ]
    },
    {
      "cell_type": "markdown",
      "metadata": {
        "id": "-zgKpSF54IPM"
      },
      "source": [
        "**Prediction:**"
      ]
    },
    {
      "cell_type": "code",
      "execution_count": null,
      "metadata": {
        "colab": {
          "base_uri": "https://localhost:8080/"
        },
        "id": "py-J9Tan4JaO",
        "outputId": "11301e5e-a4d0-4b9c-d1aa-c927f6341feb"
      },
      "outputs": [
        {
          "name": "stdout",
          "output_type": "stream",
          "text": [
            "mask indices [ 2 10 14]\n",
            "input: [ 0.36533062 -1.04661651 -0.47209125 -1.98844479  8.74760154  0.38066227\n",
            "  0.17054778 -1.15190681  4.12536361  0.83958253  0.17364828  0.41363986\n",
            " -0.94079514]\n",
            "expected: [[ 0.36533062 -1.04661651 -1.06839808 -0.47209125]\n",
            " [-1.98844479  8.74760154  0.38066227  0.17054778]\n",
            " [-1.15190681  4.12536361  1.89863841  0.83958253]\n",
            " [ 0.17364828  0.41363986 -2.13071512 -0.94079514]]\n",
            "tensor([-1.1168,  0.2663,  0.1812])\n"
          ]
        }
      ],
      "source": [
        "U = np.random.randn(r,n)\n",
        "V = np.random.randn(r,n)\n",
        "mat = U.T @ V\n",
        "mat_column = mat.reshape(-1)\n",
        "x_vec = mat_column[unmasked_indices]\n",
        "\n",
        "print(\"mask indices\", masked_indices)\n",
        "print(\"input:\", x_vec)\n",
        "print(\"expected:\", mat_column.reshape(n,n))\n",
        "\n",
        "example_input = torch.tensor(x_vec, dtype=torch.float32, device=device)\n",
        "\n",
        "with torch.no_grad():\n",
        "    prediction = model(example_input)\n",
        "\n",
        "print(prediction)"
      ]
    },
    {
      "cell_type": "code",
      "execution_count": null,
      "metadata": {
        "id": "MYwLr-I0C3EU",
        "outputId": "d36de1ac-aec1-4ee1-ac8e-61821e9c9262"
      },
      "outputs": [
        {
          "name": "stdout",
          "output_type": "stream",
          "text": [
            "Final Train Loss: 0.0099\n",
            "Final Test Loss:  0.0098\n"
          ]
        }
      ],
      "source": [
        "print(f\"Final Train Loss: {hist['train_loss'][-1]:.4f}\")\n",
        "print(f\"Final Test Loss:  {hist['test_loss'][-1]:.4f}\")"
      ]
    },
    {
      "cell_type": "code",
      "execution_count": null,
      "metadata": {
        "id": "W1M292eGX-4e"
      },
      "outputs": [],
      "source": [
        "torch.save(model.state_dict(), \"4x4_new_model_weights.pth\")"
      ]
    },
    {
      "cell_type": "markdown",
      "metadata": {
        "id": "0wsFVoin0OsC"
      },
      "source": [
        "## Extras:"
      ]
    },
    {
      "cell_type": "markdown",
      "metadata": {
        "id": "DKrP_L_nOd1o"
      },
      "source": [
        "Distribution of the entries of the matrix:"
      ]
    },
    {
      "cell_type": "code",
      "execution_count": 3,
      "metadata": {
        "colab": {
          "base_uri": "https://localhost:8080/",
          "height": 487
        },
        "id": "eO4syUKCOf6r",
        "outputId": "79dcc8e2-4e54-47dd-942b-dab3b3e19961"
      },
      "outputs": [
        {
          "output_type": "display_data",
          "data": {
            "text/plain": [
              "<Figure size 640x480 with 1 Axes>"
            ],
            "image/png": "[encoded data removed]"
          },
          "metadata": {}
        }
      ],
      "source": [
        "num = 10000 # number of data points (matrices)\n",
        "n = 4 # dimenion of the square matrix\n",
        "r = 2 # rank of the matrices\n",
        "\n",
        "elem_row, elem_col = 0, 0\n",
        "elements = []\n",
        "\n",
        "for i in range(0, num):\n",
        "  U = np.random.randn(r,n)\n",
        "  V = np.random.randn(r,n)\n",
        "  mat = U.T @ V\n",
        "  elements.append(mat[elem_row, elem_col])\n",
        "\n",
        "plt.hist(elements, bins=100);\n",
        "plt.xlabel('Value')\n",
        "plt.ylabel('Frequency')\n",
        "plt.title(f'Distribution of {n} × {n} matrices')\n",
        "plt.tight_layout()\n",
        "plt.show()"
      ]
    },
    {
      "cell_type": "markdown",
      "metadata": {
        "id": "54aMrqr2VcQO"
      },
      "source": [
        "**Loading the pre-trained model:**\n",
        "for the 2x2 case:"
      ]
    },
    {
      "cell_type": "code",
      "source": [
        "state_dict = torch.load('2x2_model_weights.pth')\n",
        "print(state_dict.keys())\n",
        "for k, v in state_dict.items():\n",
        "    print(f\"{k}: {v.shape}\")"
      ],
      "metadata": {
        "colab": {
          "base_uri": "https://localhost:8080/"
        },
        "id": "ooiTEdIYaPhy",
        "outputId": "6052766e-85b1-4f2e-d936-c984fda8cae7"
      },
      "execution_count": 6,
      "outputs": [
        {
          "output_type": "stream",
          "name": "stdout",
          "text": [
            "odict_keys(['fc1.weight', 'fc1.bias', 'fc2.weight', 'fc2.bias', 'fc3.weight', 'fc3.bias', 'fc4.weight', 'fc4.bias'])\n",
            "fc1.weight: torch.Size([120, 3])\n",
            "fc1.bias: torch.Size([120])\n",
            "fc2.weight: torch.Size([40, 120])\n",
            "fc2.bias: torch.Size([40])\n",
            "fc3.weight: torch.Size([16, 40])\n",
            "fc3.bias: torch.Size([16])\n",
            "fc4.weight: torch.Size([1, 16])\n",
            "fc4.bias: torch.Size([1])\n"
          ]
        }
      ]
    },
    {
      "cell_type": "code",
      "execution_count": null,
      "metadata": {
        "colab": {
          "base_uri": "https://localhost:8080/"
        },
        "id": "4gTJAstdVdR-",
        "outputId": "37140ba6-03d8-4c3e-9def-e16caf5cec8f"
      },
      "outputs": [
        {
          "data": {
            "text/plain": [
              "SimpleMLP(\n",
              "  (fc1): Linear(in_features=3, out_features=40, bias=True)\n",
              "  (fc2): Linear(in_features=40, out_features=120, bias=True)\n",
              "  (fc3): Linear(in_features=120, out_features=4, bias=True)\n",
              ")"
            ]
          },
          "execution_count": 51,
          "metadata": {},
          "output_type": "execute_result"
        }
      ],
      "source": [
        "class SimpleMLP(nn.Module):\n",
        "    def __init__(self):\n",
        "        super(SimpleMLP, self).__init__()\n",
        "        self.fc1 = nn.Linear(3, 120)\n",
        "        self.fc2 = nn.Linear(120, 40)\n",
        "        self.fc3 = nn.Linear(40, 16)\n",
        "        self.fc4 = nn.Linear(16, 1)\n",
        "\n",
        "    def forward(self, x):\n",
        "        x = self.fc1(x)\n",
        "        x = F.relu(x)\n",
        "        x = self.fc2(x)\n",
        "        x = F.relu(x)\n",
        "        x = self.fc3(x)\n",
        "        x = F.relu(x)\n",
        "        x = self.fc4(x)\n",
        "        return x\n",
        "\n",
        "model = SimpleMLP()  # define the architecture\n",
        "model.load_state_dict(torch.load(\"2x2_model_weights.pth\"))\n",
        "model.eval()  # set to evaluation mode if you’re doing inference"
      ]
    },
    {
      "cell_type": "code",
      "execution_count": null,
      "metadata": {
        "colab": {
          "base_uri": "https://localhost:8080/",
          "height": 468
        },
        "id": "PCKYwRWYJkpC",
        "outputId": "542f4d12-84fe-415b-800f-52ab6f0a5bfa"
      },
      "outputs": [
        {
          "name": "stdout",
          "output_type": "stream",
          "text": [
            "0.9918\n"
          ]
        },
        {
          "data": {
            "text/plain": [
              "(-2.0, 2.0)"
            ]
          },
          "execution_count": 55,
          "metadata": {},
          "output_type": "execute_result"
        },
        {
          "data": {
            "image/png": "[encoded data removed]",
            "text/plain": [
              "<Figure size 640x480 with 1 Axes>"
            ]
          },
          "metadata": {},
          "output_type": "display_data"
        }
      ],
      "source": [
        "num = 10000\n",
        "n = 2\n",
        "r = 1\n",
        "max_masking = n**2 - 2*n*r + r**2\n",
        "mask = generate_masking_array(n, max_masking)\n",
        "mask_indices = np.array(np.argwhere(mask == 1)).flatten()\n",
        "deviations = []\n",
        "perc = 0\n",
        "for i in range(0, num):\n",
        "  U = np.random.randn(r,n)\n",
        "  V = np.random.randn(r,n)\n",
        "  mat = U.T @ V\n",
        "  mat_column = mat.reshape(-1)\n",
        "  x_vec = mat_column[mask_indices]\n",
        "  example_input = torch.tensor(x_vec, dtype=torch.float32, device=device)\n",
        "  with torch.no_grad():\n",
        "      prediction = model(example_input)\n",
        "  dev = mat_column[-1] - prediction.cpu().detach().numpy()[-1]\n",
        "  if dev < 1 and dev > -1:\n",
        "    perc += 1\n",
        "  deviations.append(dev)\n",
        "\n",
        "perc /= num\n",
        "print(perc)\n",
        "plt.hist(deviations, bins=200, color='#ffb8f3');\n",
        "plt.xlim(-2, 2)"
      ]
    },
    {
      "cell_type": "markdown",
      "metadata": {
        "id": "ZQOicHNALgpU"
      },
      "source": [
        "For the 4x4 case:"
      ]
    },
    {
      "cell_type": "code",
      "source": [
        "state_dict = torch.load('4x4_model_weights.pth')\n",
        "print(state_dict.keys())\n",
        "for k, v in state_dict.items():\n",
        "    print(f\"{k}: {v.shape}\")"
      ],
      "metadata": {
        "colab": {
          "base_uri": "https://localhost:8080/"
        },
        "id": "ghaLqi6Hazq5",
        "outputId": "862a0fca-d4fd-4e75-b4a1-12adb281486c"
      },
      "execution_count": 8,
      "outputs": [
        {
          "output_type": "stream",
          "name": "stdout",
          "text": [
            "odict_keys(['fc1.weight', 'fc1.bias', 'fc2.weight', 'fc2.bias', 'fc3.weight', 'fc3.bias', 'fc4.weight', 'fc4.bias'])\n",
            "fc1.weight: torch.Size([480, 13])\n",
            "fc1.bias: torch.Size([480])\n",
            "fc2.weight: torch.Size([320, 480])\n",
            "fc2.bias: torch.Size([320])\n",
            "fc3.weight: torch.Size([80, 320])\n",
            "fc3.bias: torch.Size([80])\n",
            "fc4.weight: torch.Size([3, 80])\n",
            "fc4.bias: torch.Size([3])\n"
          ]
        }
      ]
    },
    {
      "cell_type": "code",
      "execution_count": null,
      "metadata": {
        "colab": {
          "base_uri": "https://localhost:8080/"
        },
        "id": "DTAwAj9VLiG4",
        "outputId": "65914fda-f58c-4f9d-edfc-05f6e7d0cf59"
      },
      "outputs": [
        {
          "data": {
            "text/plain": [
              "SimpleMLP(\n",
              "  (fc1): Linear(in_features=13, out_features=480, bias=True)\n",
              "  (fc2): Linear(in_features=480, out_features=1600, bias=True)\n",
              "  (fc3): Linear(in_features=1600, out_features=16, bias=True)\n",
              ")"
            ]
          },
          "execution_count": 36,
          "metadata": {},
          "output_type": "execute_result"
        }
      ],
      "source": [
        "class SimpleMLP(nn.Module):\n",
        "    def __init__(self):\n",
        "        super(SimpleMLP, self).__init__()\n",
        "        self.fc1 = nn.Linear(13, 480)\n",
        "        self.fc2 = nn.Linear(480, 320)\n",
        "        self.fc3 = nn.Linear(320, 80)\n",
        "        self.fc4 = nn.Linear(80, 3)\n",
        "\n",
        "    def forward(self, x):\n",
        "        x = self.fc1(x)\n",
        "        x = F.relu(x)\n",
        "        x = self.fc2(x)\n",
        "        x = F.relu(x)\n",
        "        x = self.fc3(x)\n",
        "        x = F.relu(x)\n",
        "        x = self.fc4(x)\n",
        "        return x\n",
        "\n",
        "model = SimpleMLP()  # define the architecture\n",
        "model.load_state_dict(torch.load(\"4x4_model_weights.pth\"))\n",
        "model.eval()  # set to evaluation mode if you’re doing inference"
      ]
    },
    {
      "cell_type": "code",
      "execution_count": null,
      "metadata": {
        "colab": {
          "base_uri": "https://localhost:8080/",
          "height": 504
        },
        "id": "xbSPWamJMnAS",
        "outputId": "bc9c285b-f5df-4153-c588-6ee09ad49ec7"
      },
      "outputs": [
        {
          "name": "stdout",
          "output_type": "stream",
          "text": [
            "percentage within SD: 0.6844\n"
          ]
        },
        {
          "data": {
            "image/png": "[encoded data removed]",
            "text/plain": [
              "<Figure size 640x480 with 1 Axes>"
            ]
          },
          "metadata": {},
          "output_type": "display_data"
        }
      ],
      "source": [
        "num = 10000\n",
        "n = 4\n",
        "r = 2\n",
        "ax_masking = n**2 - 2*n*r + r**2\n",
        "mask = generate_masking_array(n, max_masking)\n",
        "mask_indices = np.array(np.argwhere(mask == 1)).flatten()\n",
        "deviations = []\n",
        "perc = 0\n",
        "\n",
        "for i in range(0, num):\n",
        "  U = np.random.randn(r,n)\n",
        "  V = np.random.randn(r,n)\n",
        "  mat = U.T @ V\n",
        "  mat_column = mat.reshape(-1)\n",
        "  x_vec = mat_column[mask_indices]\n",
        "  example_input = torch.tensor(x_vec, dtype=torch.float32, device=device)\n",
        "  with torch.no_grad():  # No need to track gradients for prediction\n",
        "      prediction = model(example_input)\n",
        "\n",
        "  dev = mat_column[-1] - prediction.cpu().detach().numpy()[-1]\n",
        "  if dev < np.sqrt(2) and dev > -np.sqrt(2):\n",
        "    perc += 1\n",
        "  deviations.append(dev)\n",
        "\n",
        "perc /= num\n",
        "print(f\"percentage within SD: {perc}\")\n",
        "plt.hist(deviations, bins=100, color = \"#ffb8f3\");\n",
        "plt.xlabel(\"Deviations\")\n",
        "plt.ylabel(\"Frequency\")\n",
        "plt.title(f\"Deviations of {n} × {n} matrices predictions\")\n",
        "plt.axvline(x=np.sqrt(2), color='#01566d', linestyle='--', linewidth=1, label = \"SD\")\n",
        "plt.axvline(x=-np.sqrt(2), color='#01566d', linestyle='--', linewidth=1)\n",
        "plt.legend()\n",
        "plt.tight_layout()\n",
        "# plt.savefig(\"4_deviations.png\")\n",
        "# plt.xlim(-2, 2)"
      ]
    }
  ],
  "metadata": {
    "colab": {
      "provenance": []
    },
    "kernelspec": {
      "display_name": "base",
      "language": "python",
      "name": "python3"
    },
    "language_info": {
      "codemirror_mode": {
        "name": "ipython",
        "version": 3
      },
      "file_extension": ".py",
      "mimetype": "text/x-python",
      "name": "python",
      "nbconvert_exporter": "python",
      "pygments_lexer": "ipython3",
      "version": "3.11.9"
    }
  },
  "nbformat": 4,
  "nbformat_minor": 0
}